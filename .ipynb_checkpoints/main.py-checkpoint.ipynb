{
 "cells": [
  {
   "cell_type": "markdown",
   "id": "3409aa71",
   "metadata": {},
   "source": [
    "## Setup"
   ]
  },
  {
   "cell_type": "code",
   "execution_count": 2,
   "id": "2da2d621",
   "metadata": {},
   "outputs": [
    {
     "name": "stdout",
     "output_type": "stream",
     "text": [
      "Collecting mediapipe\n",
      "  Downloading mediapipe-0.8.9.1-cp38-cp38-macosx_10_15_x86_64.whl (33.4 MB)\n",
      "\u001b[K     |████████████████████████████████| 33.4 MB 7.1 MB/s eta 0:00:01\n",
      "\u001b[?25hRequirement already satisfied: numpy in /Users/Nicole/opt/anaconda3/lib/python3.8/site-packages (from mediapipe) (1.19.5)\n",
      "Requirement already satisfied: protobuf>=3.11.4 in /Users/Nicole/opt/anaconda3/lib/python3.8/site-packages (from mediapipe) (3.17.2)\n",
      "Requirement already satisfied: matplotlib in /Users/Nicole/opt/anaconda3/lib/python3.8/site-packages (from mediapipe) (3.3.4)\n",
      "Requirement already satisfied: absl-py in /Users/Nicole/opt/anaconda3/lib/python3.8/site-packages (from mediapipe) (0.12.0)\n",
      "Collecting opencv-contrib-python\n",
      "  Downloading opencv_contrib_python-4.5.5.64-cp36-abi3-macosx_10_15_x86_64.whl (55.9 MB)\n",
      "\u001b[K     |████████████████████████████████| 55.9 MB 112 kB/s  eta 0:00:01\n",
      "\u001b[?25hRequirement already satisfied: attrs>=19.1.0 in /Users/Nicole/opt/anaconda3/lib/python3.8/site-packages (from mediapipe) (20.3.0)\n",
      "Requirement already satisfied: six>=1.9 in /Users/Nicole/opt/anaconda3/lib/python3.8/site-packages (from protobuf>=3.11.4->mediapipe) (1.15.0)\n",
      "Requirement already satisfied: pyparsing!=2.0.4,!=2.1.2,!=2.1.6,>=2.0.3 in /Users/Nicole/opt/anaconda3/lib/python3.8/site-packages (from matplotlib->mediapipe) (2.4.7)\n",
      "Requirement already satisfied: kiwisolver>=1.0.1 in /Users/Nicole/opt/anaconda3/lib/python3.8/site-packages (from matplotlib->mediapipe) (1.3.1)\n",
      "Requirement already satisfied: pillow>=6.2.0 in /Users/Nicole/opt/anaconda3/lib/python3.8/site-packages (from matplotlib->mediapipe) (8.2.0)\n",
      "Requirement already satisfied: python-dateutil>=2.1 in /Users/Nicole/opt/anaconda3/lib/python3.8/site-packages (from matplotlib->mediapipe) (2.8.1)\n",
      "Requirement already satisfied: cycler>=0.10 in /Users/Nicole/opt/anaconda3/lib/python3.8/site-packages (from matplotlib->mediapipe) (0.10.0)\n",
      "Installing collected packages: opencv-contrib-python, mediapipe\n",
      "Successfully installed mediapipe-0.8.9.1 opencv-contrib-python-4.5.5.64\n"
     ]
    }
   ],
   "source": [
    "!pip install mediapipe\n",
    "\n",
    "import mediapipe\n",
    "import cv2\n",
    "\n",
    "import numpy as np\n",
    "import matplotlib.pyplot as plt\n",
    "from tqdm import tqdm # Displays a progress bar\n",
    "\n",
    "import torch\n",
    "from torch import nn\n",
    "from torch import optim\n",
    "import torch.nn.functional as F\n",
    "from torchsummary import summary\n",
    "from torchvision import datasets, transforms\n",
    "from torch.utils.data import Dataset, Subset, DataLoader, random_split"
   ]
  },
  {
   "cell_type": "markdown",
   "id": "f8fb923a",
   "metadata": {},
   "source": [
    "## Loading Dataset"
   ]
  },
  {
   "cell_type": "code",
   "execution_count": 3,
   "id": "d97e5264",
   "metadata": {},
   "outputs": [],
   "source": [
    "img = cv2.imread(\"22.jpg\")"
   ]
  },
  {
   "cell_type": "markdown",
   "id": "3f4076bb",
   "metadata": {},
   "source": [
    "## Facial Feature Detector"
   ]
  },
  {
   "cell_type": "code",
   "execution_count": 4,
   "id": "1e5e6423",
   "metadata": {},
   "outputs": [],
   "source": [
    "face_detection = mediapipe.solutions.face_detection\n",
    "face_detector = face_detection.FaceDetection(min_detection_confidence=0.6)"
   ]
  },
  {
   "cell_type": "code",
   "execution_count": 5,
   "id": "b1658667",
   "metadata": {},
   "outputs": [],
   "source": [
    "results = face_detector.process(img)"
   ]
  },
  {
   "cell_type": "code",
   "execution_count": 13,
   "id": "efbbbcdc",
   "metadata": {},
   "outputs": [],
   "source": [
    "if results.detections:\n",
    "    for face in results.detections: \n",
    "        confidence = face.score\n",
    "        bounding_box = face.location_data.relative_bounding_box\n",
    "         \n",
    "        x = int(bounding_box.xmin * img.shape[1])\n",
    "        w = int(bounding_box.width * img.shape[1])\n",
    "        y = int(bounding_box.ymin * img.shape[0])\n",
    "        h = int(bounding_box.height * img.shape[0])\n",
    "         \n",
    "        cv2.rectangle(img, (x, y), (x + w, y + h), (255, 255, 255), thickness = 2)"
   ]
  },
  {
   "cell_type": "code",
   "execution_count": 14,
   "id": "9e5b51d4",
   "metadata": {},
   "outputs": [
    {
     "data": {
      "text/plain": [
       "True"
      ]
     },
     "execution_count": 14,
     "metadata": {},
     "output_type": "execute_result"
    }
   ],
   "source": [
    "landmarks = face.location_data.relative_keypoints\n",
    " \n",
    "right_eye = (int(landmarks[0].x * img.shape[1]), int(landmarks[0].y * img.shape[0]))\n",
    "left_eye = (int(landmarks[1].x * img.shape[1]), int(landmarks[1].y * img.shape[0]))\n",
    "nose = (int(landmarks[2].x * img.shape[1]), int(landmarks[2].y * img.shape[0]))\n",
    "mouth = (int(landmarks[3].x * img.shape[1]), int(landmarks[3].y * img.shape[0]))\n",
    "right_ear = (int(landmarks[4].x * img.shape[1]), int(landmarks[4].y * img.shape[0]))\n",
    "left_ear = (int(landmarks[5].x * img.shape[1]), int(landmarks[5].y * img.shape[0]))\n",
    " \n",
    "cv2.circle(img, right_eye, 1, (0, 0, 255), -1)\n",
    "cv2.circle(img, left_eye, 1, (0, 0, 255), -1)\n",
    "cv2.circle(img, nose, 1, (0, 0, 255), -1)\n",
    "cv2.circle(img, mouth, 1, (0, 0, 255), -1)\n",
    "cv2.circle(img, right_ear, 1, (0, 0, 255), -1)\n",
    "cv2.circle(img, left_ear, 1, (0, 0, 255), -1)\n",
    "cv2.imwrite('output.jpg',img)"
   ]
  },
  {
   "cell_type": "markdown",
   "id": "1f55f9e0",
   "metadata": {},
   "source": [
    "## Model"
   ]
  },
  {
   "cell_type": "code",
   "execution_count": null,
   "id": "13b3b5c5",
   "metadata": {},
   "outputs": [],
   "source": []
  }
 ],
 "metadata": {
  "kernelspec": {
   "display_name": "Python 3",
   "language": "python",
   "name": "python3"
  },
  "language_info": {
   "codemirror_mode": {
    "name": "ipython",
    "version": 3
   },
   "file_extension": ".py",
   "mimetype": "text/x-python",
   "name": "python",
   "nbconvert_exporter": "python",
   "pygments_lexer": "ipython3",
   "version": "3.8.8"
  }
 },
 "nbformat": 4,
 "nbformat_minor": 5
}
