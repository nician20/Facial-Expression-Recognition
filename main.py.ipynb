{
 "cells": [
  {
   "cell_type": "markdown",
   "id": "9ed17395",
   "metadata": {},
   "source": [
    "## Setup"
   ]
  },
  {
   "cell_type": "code",
   "execution_count": 67,
   "id": "7626e935",
   "metadata": {},
   "outputs": [],
   "source": [
    "import cv2\n",
    "\n",
    "import numpy as np\n",
    "import matplotlib.pyplot as plt\n",
    "from tqdm import tqdm # Displays a progress bar\n",
    "import os\n",
    "import urllib.request as urlreq\n",
    "\n",
    "import torch\n",
    "import os\n",
    "from torch import nn\n",
    "from torch import optim\n",
    "import torch.nn.functional as F\n",
    "from torchsummary import summary\n",
    "from torchvision import datasets, transforms\n",
    "from torch.utils.data import Dataset, Subset, DataLoader, random_split"
   ]
  },
  {
   "cell_type": "markdown",
   "id": "92e0a5a3",
   "metadata": {},
   "source": [
    "## Loading Dataset"
   ]
  },
  {
   "cell_type": "code",
   "execution_count": null,
   "id": "3efdba85-53bd-4a2e-b7ea-e7b579e145f8",
   "metadata": {},
   "outputs": [],
   "source": []
  },
  {
   "cell_type": "markdown",
   "id": "7d6bde06",
   "metadata": {},
   "source": [
    "## Facial Landmark Detector"
   ]
  },
  {
   "cell_type": "code",
   "execution_count": 70,
   "id": "0909d8ac-c434-485e-a76a-75720312f409",
   "metadata": {},
   "outputs": [],
   "source": [
    "def get_landmarks(img_name):\n",
    "    img = cv2.imread(img_name)\n",
    "    \n",
    "    # save face detection algorithm's url in haarcascade_url variable\n",
    "    haarcascade_url = \"https://raw.githubusercontent.com/opencv/opencv/master/data/haarcascades/haarcascade_frontalface_alt2.xml\"\n",
    "\n",
    "    # save face detection algorithm's name as haarcascade\n",
    "    haarcascade = \"haarcascade_frontalface_alt2.xml\"\n",
    "\n",
    "    # chech if file is in working directory\n",
    "    if (haarcascade not in os.listdir(os.curdir)):\n",
    "        # download file from url and save locally as haarcascade_frontalface_alt2.xml, < 1MB\n",
    "        urlreq.urlretrieve(haarcascade_url, haarcascade)\n",
    "        print(\"File downloaded\")\n",
    "\n",
    "    # create an instance of the Face Detection Cascade Classifier\n",
    "    detector = cv2.CascadeClassifier(haarcascade)\n",
    "\n",
    "    # Detect faces using the haarcascade classifier on the \"grayscale image\"\n",
    "    faces = detector.detectMultiScale(img)\n",
    "\n",
    "    if len(faces) == 0:\n",
    "        faces = np.array([[0,0,48,48]])\n",
    "        \n",
    "    img = cv2.imread(img_name)\n",
    "    LBFmodel_url = \"https://github.com/kurnianggoro/GSOC2017/raw/master/data/lbfmodel.yaml\"\n",
    "\n",
    "    # save facial landmark detection model's name as LBFmodel\n",
    "    LBFmodel = \"lbfmodel.yaml\"\n",
    "\n",
    "    # check if file is in working directory\n",
    "    if (LBFmodel not in os.listdir(os.curdir)):\n",
    "        # download picture from url and save locally as lbfmodel.yaml, < 54MB\n",
    "        urlreq.urlretrieve(LBFmodel_url, LBFmodel)\n",
    "        print(\"File downloaded\")\n",
    "\n",
    "    # create an instance of the Facial landmark Detector with the model\n",
    "    landmark_detector  = cv2.face.createFacemarkLBF()\n",
    "    landmark_detector.loadModel(LBFmodel)\n",
    "\n",
    "    # Detect landmarks on \"image_gray\"\n",
    "    _, landmarks = landmark_detector.fit(img, faces)\n",
    "\n",
    "    for landmark in landmarks:\n",
    "        for x,y in landmark[0]:\n",
    "            # display landmarks on \"image_cropped\"\n",
    "            # with white colour in BGR and thickness 1\n",
    "            cv2.circle(img, (int(x), int(y)), 0, (255, 0, 0), 1)\n",
    "    plt.axis(\"off\")\n",
    "    plt.imshow(img)\n",
    "    \n",
    "    return landmarks\n"
   ]
  },
  {
   "cell_type": "code",
   "execution_count": 71,
   "id": "09728b4d-486f-406e-b0af-9bae7e7b20c2",
   "metadata": {},
   "outputs": [
    {
     "name": "stdout",
     "output_type": "stream",
     "text": [
      "(48, 48, 3)\n"
     ]
    },
    {
     "data": {
      "text/plain": [
       "(array([[[ 1.2230142, 13.62515  ],\n",
       "         [ 1.89881  , 18.844763 ],\n",
       "         [ 2.6908202, 23.967827 ],\n",
       "         [ 3.9406798, 28.959635 ],\n",
       "         [ 5.966726 , 33.498302 ],\n",
       "         [ 9.049062 , 37.63056  ],\n",
       "         [13.079766 , 40.910652 ],\n",
       "         [17.484001 , 42.95748  ],\n",
       "         [21.863573 , 43.458885 ],\n",
       "         [26.17455  , 42.80611  ],\n",
       "         [29.923248 , 40.31472  ],\n",
       "         [33.35249  , 36.907696 ],\n",
       "         [35.963734 , 32.480293 ],\n",
       "         [37.89558  , 27.733889 ],\n",
       "         [39.32698  , 22.708118 ],\n",
       "         [40.244656 , 17.764505 ],\n",
       "         [40.65445  , 12.779195 ],\n",
       "         [ 6.4292955, 12.578613 ],\n",
       "         [ 9.458642 , 10.935528 ],\n",
       "         [13.207218 , 11.015214 ],\n",
       "         [16.718914 , 12.285414 ],\n",
       "         [20.159058 , 13.706006 ],\n",
       "         [24.428783 , 13.711701 ],\n",
       "         [27.43565  , 12.293816 ],\n",
       "         [30.642622 , 10.967    ],\n",
       "         [34.034603 , 10.476006 ],\n",
       "         [36.766457 , 12.019502 ],\n",
       "         [22.426231 , 15.924629 ],\n",
       "         [22.590763 , 19.001535 ],\n",
       "         [22.797848 , 22.0872   ],\n",
       "         [22.990284 , 25.236282 ],\n",
       "         [18.690792 , 26.461119 ],\n",
       "         [20.64554  , 27.079613 ],\n",
       "         [22.739746 , 27.606441 ],\n",
       "         [24.73796  , 26.808325 ],\n",
       "         [26.479124 , 25.876123 ],\n",
       "         [10.692597 , 15.233613 ],\n",
       "         [12.853853 , 14.166428 ],\n",
       "         [15.363153 , 14.213239 ],\n",
       "         [17.389288 , 16.030443 ],\n",
       "         [15.14185  , 16.227482 ],\n",
       "         [12.643122 , 16.169289 ],\n",
       "         [26.530245 , 15.810295 ],\n",
       "         [28.470491 , 13.884214 ],\n",
       "         [30.95324  , 13.638401 ],\n",
       "         [32.825367 , 14.720853 ],\n",
       "         [31.217031 , 15.740691 ],\n",
       "         [28.728188 , 15.892538 ],\n",
       "         [15.925284 , 33.1691   ],\n",
       "         [18.128641 , 31.075718 ],\n",
       "         [20.701212 , 30.160913 ],\n",
       "         [22.611282 , 30.559996 ],\n",
       "         [24.449526 , 30.006218 ],\n",
       "         [26.66352  , 30.67894  ],\n",
       "         [28.199455 , 32.690952 ],\n",
       "         [26.68436  , 35.453796 ],\n",
       "         [24.654438 , 36.806248 ],\n",
       "         [22.656809 , 37.167023 ],\n",
       "         [20.611311 , 37.0922   ],\n",
       "         [18.086628 , 36.016323 ],\n",
       "         [16.947495 , 33.130817 ],\n",
       "         [20.640055 , 31.407187 ],\n",
       "         [22.56121  , 31.388786 ],\n",
       "         [24.408201 , 31.152853 ],\n",
       "         [27.31538  , 32.7311   ],\n",
       "         [24.562326 , 34.88841  ],\n",
       "         [22.664131 , 35.23649  ],\n",
       "         [20.736162 , 35.10423  ]]], dtype=float32),)"
      ]
     },
     "execution_count": 71,
     "metadata": {},
     "output_type": "execute_result"
    },
    {
     "data": {
      "image/png": "[encoded data removed]",
      "text/plain": [
       "<Figure size 432x288 with 1 Axes>"
      ]
     },
     "metadata": {
      "needs_background": "light"
     },
     "output_type": "display_data"
    }
   ],
   "source": [
    "get_landmarks(\"22.jpg\")"
   ]
  },
  {
   "cell_type": "code",
   "execution_count": null,
   "id": "e291ba3e-ea09-44e0-b969-9f4049112b64",
   "metadata": {},
   "outputs": [],
   "source": []
  }
 ],
 "metadata": {
  "kernelspec": {
   "display_name": "Python 3 (ipykernel)",
   "language": "python",
   "name": "python3"
  },
  "language_info": {
   "codemirror_mode": {
    "name": "ipython",
    "version": 3
   },
   "file_extension": ".py",
   "mimetype": "text/x-python",
   "name": "python",
   "nbconvert_exporter": "python",
   "pygments_lexer": "ipython3",
   "version": "3.9.9"
  }
 },
 "nbformat": 4,
 "nbformat_minor": 5
}
