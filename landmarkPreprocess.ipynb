{
 "cells": [
  {
   "cell_type": "code",
   "execution_count": null,
   "id": "29f7263b",
   "metadata": {},
   "outputs": [],
   "source": [
    "import os\n",
    "\n",
    "import numpy as np\n",
    "import matplotlib.pyplot as plt\n",
    "from tqdm import tqdm # Displays a progress bar\n",
    "import os\n",
    "import urllib.request as urlreq\n",
    "\n",
    "import torch\n",
    "import os\n",
    "from torch import nn\n",
    "from torch import optim\n",
    "import torch.nn.functional as F\n",
    "from torchsummary import summary\n",
    "from torchvision import datasets, transforms\n",
    "from torch.utils.data import Dataset, Subset, DataLoader, random_split\n",
    "from torchvision import datasets, transforms, models"
   ]
  },
  {
   "cell_type": "code",
   "execution_count": null,
   "id": "e893636e",
   "metadata": {},
   "outputs": [],
   "source": []
  },
  {
   "cell_type": "code",
   "execution_count": null,
   "id": "703d242b",
   "metadata": {},
   "outputs": [],
   "source": [
    "# Landmark Detector Preproc"
   ]
  },
  {
   "cell_type": "code",
   "execution_count": null,
   "id": "d1b470d5",
   "metadata": {},
   "outputs": [],
   "source": [
    "import cv2\n",
    "\n",
    "def get_landmarks(img_name):\n",
    "    img = cv2.imread(img_name, cv2.IMREAD_GRAYSCALE)\n",
    "    #img = cv2.imread(img_name)\n",
    "    # save face detection algorithm's url in haarcascade_url variable\n",
    "    haarcascade_url = \"https://raw.githubusercontent.com/opencv/opencv/master/data/haarcascades/haarcascade_frontalface_alt2.xml\"\n",
    "\n",
    "    # save face detection algorithm's name as haarcascade\n",
    "    haarcascade = \"haarcascade_frontalface_alt2.xml\"\n",
    "\n",
    "    # chech if file is in working directory\n",
    "    if (haarcascade not in os.listdir(os.curdir)):\n",
    "        # download file from url and save locally as haarcascade_frontalface_alt2.xml, < 1MB\n",
    "        urlreq.urlretrieve(haarcascade_url, haarcascade)\n",
    "        print(\"File downloaded\")\n",
    "\n",
    "    # create an instance of the Face Detection Cascade Classifier\n",
    "    detector = cv2.CascadeClassifier(haarcascade)\n",
    "\n",
    "    # Detect faces using the haarcascade classifier on the \"grayscale image\"\n",
    "    faces = detector.detectMultiScale(img)\n",
    "\n",
    "    if len(faces) == 0:\n",
    "        faces = np.array([[0,0,48,48]])\n",
    "        \n",
    "    img = cv2.imread(img_name)\n",
    "    LBFmodel_url = \"https://github.com/kurnianggoro/GSOC2017/raw/master/data/lbfmodel.yaml\"\n",
    "\n",
    "    # save facial landmark detection model's name as LBFmodel\n",
    "    LBFmodel = \"lbfmodel.yaml\"\n",
    "\n",
    "    # check if file is in working directory\n",
    "    if (LBFmodel not in os.listdir(os.curdir)):\n",
    "        # download picture from url and save locally as lbfmodel.yaml, < 54MB\n",
    "        urlreq.urlretrieve(LBFmodel_url, LBFmodel)\n",
    "        print(\"File downloaded\")\n",
    "\n",
    "    # create an instance of the Facial landmark Detector with the model\n",
    "    landmark_detector  = cv2.face.createFacemarkLBF()\n",
    "    landmark_detector.loadModel(LBFmodel)\n",
    "\n",
    "    # Detect landmarks on \"image_gray\"\n",
    "    _, landmarks = landmark_detector.fit(img, faces)\n",
    "\n",
    "    for landmark in landmarks:\n",
    "        for x,y in landmark[0]:\n",
    "            # display landmarks on \"image_cropped\"\n",
    "            # with white colour in BGR and thickness 1\n",
    "            cv2.circle(img, (int(x), int(y)), 0, (255, 0, 0), 1)\n",
    "    plt.axis(\"off\")\n",
    "    #plt.imshow(img)\n",
    "    print(\"new_images/\"+(img_name).split(\".\")[0]+\".png\")\n",
    "    plt.imsave(\"new_images/\"+(img_name).split(\".\")[0]+\".png\", img)"
   ]
  },
  {
   "cell_type": "code",
   "execution_count": null,
   "id": "6b2b0969",
   "metadata": {},
   "outputs": [],
   "source": [
    "from pathlib import Path\n",
    "\n",
    "\n",
    "for name in [\"angry\", \"disgust\", \"fear\", \"happy\", \"neutral\", \"sad\", \"surprise\"]:\n",
    "    path = \"images/train/\" + name\n",
    "    Path(\"new_images/images/train/\"+name).mkdir(parents=True, exist_ok=True)\n",
    "    files = os.listdir(path)\n",
    "    for i in range(1, len(files)):\n",
    "        filename = files[i]\n",
    "        f = os.path.join(path, filename)\n",
    "        # checking if it is a file\n",
    "        if os.path.isfile(f):\n",
    "            print(f)\n",
    "        get_landmarks(f)"
   ]
  },
  {
   "cell_type": "code",
   "execution_count": null,
   "id": "6254e96b",
   "metadata": {},
   "outputs": [],
   "source": [
    "for name in [\"angry\", \"disgust\", \"fear\", \"happy\", \"neutral\", \"sad\", \"surprise\"]:\n",
    "    path = \"images/validation/\" + name\n",
    "    Path(\"new_images/images/validation/\"+name).mkdir(parents=True, exist_ok=True)\n",
    "    files = os.listdir(path)\n",
    "    for i in range(1, len(files)):\n",
    "        filename = files[i]\n",
    "        f = os.path.join(path, filename)\n",
    "        # checking if it is a file\n",
    "        if os.path.isfile(f):\n",
    "            print(f)\n",
    "        get_landmarks(f)"
   ]
  },
  {
   "cell_type": "code",
   "execution_count": null,
   "id": "d282c690",
   "metadata": {},
   "outputs": [],
   "source": [
    "for name in [\"angry\", \"disgust\", \"fear\", \"happy\", \"neutral\", \"sad\", \"surprise\"]:\n",
    "    path = \"images/test/\" + name\n",
    "    Path(\"new_images/images/test/\"+name).mkdir(parents=True, exist_ok=True)\n",
    "    files = os.listdir(path)\n",
    "    for i in range(1, len(files)):\n",
    "        filename = files[i]\n",
    "        f = os.path.join(path, filename)\n",
    "        # checking if it is a file\n",
    "        if os.path.isfile(f):\n",
    "            print(f)\n",
    "        get_landmarks(f)"
   ]
  }
 ],
 "metadata": {
  "kernelspec": {
   "display_name": "Python 3",
   "language": "python",
   "name": "python3"
  },
  "language_info": {
   "codemirror_mode": {
    "name": "ipython",
    "version": 3
   },
   "file_extension": ".py",
   "mimetype": "text/x-python",
   "name": "python",
   "nbconvert_exporter": "python",
   "pygments_lexer": "ipython3",
   "version": "3.8.8"
  }
 },
 "nbformat": 4,
 "nbformat_minor": 5
}
